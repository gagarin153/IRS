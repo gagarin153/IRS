{
 "cells": [
  {
   "cell_type": "markdown",
   "id": "10b16505",
   "metadata": {},
   "source": [
    "Задание:\n",
    "1. Выберите текстовую коллекцию, которая вм симптична (можно взять отсюда - http://romip.ru/ru/collections/index.html ).\n",
    "2. Поставьте библиотеку https://github.com/seatgeek/fuzzywuzzy (самый простой вариант).\n",
    "3. Выделите нечеткие дубликаты документов.\n",
    "4. Сдайте мне лабу, надо обозначить \n",
    "длина шингла; \n",
    "процент дубликатов от общего количества документов;\n",
    "выделенные кластеры из нечетких дубликатов (желательно с названиями по смыслу).\n",
    "\n",
    "Кластеры можно визуализировать (и подписать легенду).\n",
    "\n",
    "\n",
    "Как сдавать задание:\n",
    "1. Код и визуализаци онтологии в любом виде должны лежать на Яндекс.диске. Лучше не видео, видео не влезет.\n",
    "1.2. Можно прислать ссылку на личный гит с отдельной папкой \"Поисковые системы/Лабораторная № 4\".\n",
    "2. У кода должны быть комменты, у картинки - легенда (хотя бы с расшифровкой связей)."
   ]
  },
  {
   "cell_type": "code",
   "execution_count": 19,
   "id": "6323d636",
   "metadata": {},
   "outputs": [],
   "source": [
    "from lxml import objectify\n",
    "import pandas as pd\n",
    "\n",
    "xml_data = objectify.parse('news-080404.xml')  # Parse XML data\n",
    "root = xml_data.getroot()  # Root element\n",
    "\n",
    "data = []\n",
    "cols = []\n",
    "for i in range(len(root.getchildren())):\n",
    "    child = root.getchildren()[i]\n",
    "    data.append([subchild.text for subchild in child.getchildren()])\n",
    "    cols = [subchild.tag for subchild in child.getchildren()]\n",
    "\n",
    "df = pd.DataFrame(data)  # Create DataFrame and transpose it\n",
    "df.columns = cols  # Update column names\n",
    "df"
   ]
  },
  {
   "cell_type": "code",
   "execution_count": null,
   "id": "19172da6",
   "metadata": {
    "collapsed": false,
    "jupyter": {
     "outputs_hidden": false
    },
    "pycharm": {
     "name": "#%%\n"
    }
   },
   "outputs": [
    {
     "data": {
      "text/plain": [
       "0        Министр финансов РФ Алексей Кудрин предложил п...\n",
       "1        Министерство природных ресурсов распорядилось ...\n",
       "2        В четверг неподалеку от Эль-Фаллуджи иракские ...\n",
       "3        Загорать можно и зимой - для этого достаточно ...\n",
       "4        На вопросы наших читательниц о гнойных воспале...\n",
       "                               ...                        \n",
       "10015    Премьер-министр Пакистана Зафарулла Хан Джамал...\n",
       "10016    Пакистанские полицейские предотвратили покушен...\n",
       "10017    КАРАЧИ, 2 апреля.\\nПолиции Пакистана удалось п...\n",
       "10018    Боевик палестинской экстремистской группировки...\n",
       "10019    11 сентября 2001 года, в день совершения терак...\n",
       "Name: text, Length: 10020, dtype: object"
      ]
     },
     "execution_count": 6,
     "metadata": {},
     "output_type": "execute_result"
    }
   ],
   "source": [
    "import base64\n",
    "\n",
    "def decode_base64(text):\n",
    "    return base64.b64decode(text).decode('windows-1251')\n",
    "\n",
    "df['text'] = df['content'].apply(decode_base64)\n",
    "df['text']"
   ]
  },
  {
   "cell_type": "code",
   "execution_count": null,
   "id": "c05a71d3",
   "metadata": {
    "collapsed": false,
    "jupyter": {
     "outputs_hidden": false
    },
    "pycharm": {
     "name": "#%%\n"
    }
   },
   "outputs": [
    {
     "data": {
      "text/plain": [
       "0        министр финансов рф алексей кудрин предложил п...\n",
       "1        министерство природных ресурсов распорядилось ...\n",
       "2        четверг неподалеку эль-фаллуджи иракские повст...\n",
       "3        загорать зимой достаточно пару неделю ходить с...\n",
       "4        вопросы наших читательниц гнойных воспалениях ...\n",
       "                               ...                        \n",
       "10015    премьер-министр пакистана зафарулла хан джамал...\n",
       "10016    пакистанские полицейские предотвратили покушен...\n",
       "10017    карачи апреля полиции пакистана удалось предот...\n",
       "10018    боевик палестинской экстремистской группировки...\n",
       "10019    11 сентября года день совершения терактов нью-...\n",
       "Name: text, Length: 10020, dtype: object"
      ]
     },
     "execution_count": 9,
     "metadata": {},
     "output_type": "execute_result"
    }
   ],
   "source": [
    "import string\n",
    "import regex\n",
    "\n",
    "from nltk.tokenize import word_tokenize\n",
    "from nltk.corpus import stopwords\n",
    "\n",
    "stop_words = set(stopwords.words('russian'))\n",
    "\n",
    "def to_clear_tokens(text):\n",
    "    text = regex.sub('[\\p{Latin}]', u'', text)\n",
    "    text = regex.sub('(\\s\\d+)', '', text)\n",
    "    text = regex.sub('``', '', text)\n",
    "    word_tokens = word_tokenize(text)\n",
    "    clear_lower_tokens = [w.lower() for w in word_tokens if (not w.lower() in stop_words and not w in string.punctuation)]\n",
    "    return ' '.join(clear_lower_tokens)\n",
    "\n",
    "df['text'] = df['text'].apply(to_clear_tokens)\n",
    "df['text']"
   ]
  },
  {
   "cell_type": "code",
   "execution_count": null,
   "id": "169d98cc",
   "metadata": {},
   "outputs": [
    {
     "data": {
      "text/plain": [
       "0        [министр финансов рф алексей кудрин, финансов ...\n",
       "1        [министерство природных ресурсов распорядилось...\n",
       "2        [четверг неподалеку эль-фаллуджи иракские повс...\n",
       "3        [загорать зимой достаточно пару неделю, зимой ...\n",
       "4        [вопросы наших читательниц гнойных воспалениях...\n",
       "                               ...                        \n",
       "10015    [премьер-министр пакистана зафарулла хан джама...\n",
       "10016    [пакистанские полицейские предотвратили покуше...\n",
       "10017    [карачи апреля полиции пакистана удалось, апре...\n",
       "10018    [боевик палестинской экстремистской группировк...\n",
       "10019    [11 сентября года день совершения, сентября го...\n",
       "Name: shingles, Length: 10020, dtype: object"
      ]
     },
     "execution_count": 10,
     "metadata": {},
     "output_type": "execute_result"
    }
   ],
   "source": [
    "def form_shingles(text:str):\n",
    "    shingles_count = 5\n",
    "\n",
    "    words = text.split(' ')\n",
    "\n",
    "    shingles = []\n",
    "    for i in range(len(words) - shingles_count + 1):\n",
    "        shingle = words[i:i+shingles_count]\n",
    "        shingles.append(' '.join(shingle))\n",
    "\n",
    "    return shingles\n",
    "\n",
    "df['shingles'] = df['text'].apply(form_shingles)\n",
    "df['shingles']"
   ]
  },
  {
   "cell_type": "code",
   "execution_count": null,
   "id": "44919559",
   "metadata": {},
   "outputs": [
    {
     "data": {
      "text/plain": [
       "6088"
      ]
     },
     "execution_count": 11,
     "metadata": {},
     "output_type": "execute_result"
    }
   ],
   "source": [
    "df['shingles_len'] = df['shingles'].apply(len)\n",
    "df['shingles_len'].max()"
   ]
  },
  {
   "cell_type": "code",
   "execution_count": null,
   "id": "bbe7574b",
   "metadata": {
    "collapsed": false,
    "jupyter": {
     "outputs_hidden": false
    },
    "pycharm": {
     "name": "#%%\n"
    }
   },
   "outputs": [
    {
     "data": {
      "text/plain": [
       "[\"нести министры '' сказал журналистам\",\n",
       " 'министры смогут самостоятельно соответствующих решений',\n",
       " 'решений правительства создавать межведомственные комиссии',\n",
       " 'сообщил министры смогут самостоятельно соответствующих',\n",
       " 'работал сообщает риа `` новости',\n",
       " 'предлагаемые решения должны нести министры',\n",
       " 'министерствами `` уровень согласования заменит',\n",
       " 'правительству упразднить значительную часть комиссий',\n",
       " 'предлагаемые решения должны нести министры',\n",
       " 'создавать межведомственные комиссии координации работы',\n",
       " 'смогут самостоятельно соответствующих решений правительства',\n",
       " 'именно закреплены задачи кудрин также',\n",
       " 'таможенно-тарифной политике министерству экономического развития',\n",
       " 'сообщил министры смогут самостоятельно соответствующих',\n",
       " 'рф алексей кудрин предложил правительству',\n",
       " 'часть комиссий которых работал сообщает',\n",
       " \"нести министры '' сказал журналистам\",\n",
       " 'закреплены задачи кудрин также сообщил',\n",
       " 'комиссии координации работы министерствами ``',\n",
       " 'решений правительства создавать межведомственные комиссии',\n",
       " 'считает целесообразным передать функции комиссии',\n",
       " 'смогут самостоятельно соответствующих решений правительства',\n",
       " 'уровень согласования заменит ранее действовавшие',\n",
       " 'министры смогут самостоятельно соответствующих решений',\n",
       " 'мерам внешней торговле таможенно-тарифной политике',\n",
       " 'работал сообщает риа `` новости',\n",
       " \"новости '' `` ответственность предлагаемые\",\n",
       " \"должны нести министры '' сказал\",\n",
       " 'также сообщил министры смогут самостоятельно',\n",
       " 'министры смогут самостоятельно соответствующих решений',\n",
       " 'торговле таможенно-тарифной политике министерству экономического',\n",
       " 'именно закреплены задачи кудрин также',\n",
       " 'решений правительства создавать межведомственные комиссии',\n",
       " 'защитным мерам внешней торговле таможенно-тарифной',\n",
       " \"риа `` новости '' ``\",\n",
       " 'координации работы министерствами `` уровень',\n",
       " 'комиссий которых работал сообщает риа',\n",
       " \"риа `` новости '' ``\",\n",
       " 'поскольку именно закреплены задачи кудрин',\n",
       " 'которых работал сообщает риа ``',\n",
       " '`` уровень согласования заменит ранее',\n",
       " \"должны нести министры '' сказал\",\n",
       " 'министр финансов рф алексей кудрин',\n",
       " 'сообщил министры смогут самостоятельно соответствующих',\n",
       " 'считает целесообразным передать функции комиссии',\n",
       " \"министры '' сказал журналистам частности\",\n",
       " 'кудрин предложил правительству упразднить значительную',\n",
       " 'предлагаемые решения должны нести министры',\n",
       " 'экономического развития торговли поскольку именно',\n",
       " \"заменит ранее действовавшие комиссии ''\",\n",
       " 'согласования заменит ранее действовавшие комиссии',\n",
       " 'комиссии защитным мерам внешней торговле',\n",
       " 'ответственность предлагаемые решения должны нести',\n",
       " 'министр финансов рф алексей кудрин',\n",
       " \"должны нести министры '' сказал\",\n",
       " 'вопросам присоединения россии вто комиссии',\n",
       " 'министры смогут самостоятельно соответствующих решений',\n",
       " \"комиссии '' сказал министр финансов\",\n",
       " 'комиссии координации работы министерствами ``',\n",
       " 'предлагаемые решения должны нести министры',\n",
       " 'работы министерствами `` уровень согласования',\n",
       " 'решений правительства создавать межведомственные комиссии',\n",
       " 'правительства создавать межведомственные комиссии координации',\n",
       " 'работал сообщает риа `` новости',\n",
       " 'алексей кудрин предложил правительству упразднить',\n",
       " 'считает целесообразным передать функции комиссии',\n",
       " 'министр финансов рф алексей кудрин',\n",
       " \"решения должны нести министры ''\",\n",
       " 'комиссии защитным мерам внешней торговле',\n",
       " 'согласования заменит ранее действовавшие комиссии',\n",
       " 'защитным мерам внешней торговле таможенно-тарифной',\n",
       " 'поскольку именно закреплены задачи кудрин',\n",
       " 'именно закреплены задачи кудрин также',\n",
       " 'министры смогут самостоятельно соответствующих решений',\n",
       " 'комиссий которых работал сообщает риа']"
      ]
     },
     "execution_count": 13,
     "metadata": {},
     "output_type": "execute_result"
    }
   ],
   "source": [
    "import random\n",
    "\n",
    "def choose_shingles(shingles):\n",
    "    shingles_count = 84 if len(shingles) > 84 else len(shingles)\n",
    "    return random.choices(shingles, k=shingles_count)\n",
    "\n",
    "choose_shingles(df['shingles'][0])"
   ]
  },
  {
   "cell_type": "code",
   "execution_count": null,
   "id": "55633e31",
   "metadata": {
    "collapsed": false,
    "jupyter": {
     "outputs_hidden": false
    },
    "pycharm": {
     "name": "#%%\n"
    }
   },
   "outputs": [
    {
     "name": "stderr",
     "output_type": "stream",
     "text": [
      "/Users/sultan/.pyenv/versions/3.8.10/lib/python3.8/site-packages/fuzzywuzzy/fuzz.py:11: UserWarning: Using slow pure-python SequenceMatcher. Install python-Levenshtein to remove this warning\n",
      "  warnings.warn('Using slow pure-python SequenceMatcher. Install python-Levenshtein to remove this warning')\n"
     ]
    },
    {
     "data": {
      "text/plain": [
       "False"
      ]
     },
     "execution_count": 17,
     "metadata": {},
     "output_type": "execute_result"
    }
   ],
   "source": [
    "import fuzzywuzzy.fuzz\n",
    "\n",
    "TRASHHOLD = 60\n",
    "\n",
    "def equals(a, b):\n",
    "    ratio = fuzzywuzzy.fuzz.token_sort_ratio(a, b)\n",
    "    return ratio > TRASHHOLD\n",
    "    \n",
    "import time\n",
    "s = time.time()\n",
    "a = df['text'][10015]\n",
    "b = df['text'][10019]\n",
    "equals(a, b)\n"
   ]
  },
  {
   "cell_type": "code",
   "execution_count": null,
   "id": "94e6d83a",
   "metadata": {
    "collapsed": false,
    "jupyter": {
     "outputs_hidden": false
    },
    "pycharm": {
     "name": "#%%\n"
    }
   },
   "outputs": [
    {
     "data": {
      "text/plain": [
       "0        [решений правительства создавать межведомствен...\n",
       "1        [решение министра объясняется новыми требовани...\n",
       "2        [машину сообщает ар это произошло, дороге маши...\n",
       "3        [матки крохотные миоматозные узелки которые, п...\n",
       "4        [протолкнет гной ткани углубит воспаление, ран...\n",
       "                               ...                        \n",
       "10015    [премьер-министр пакистана зафарулла хан джама...\n",
       "10016    [карачи арестован член запрещенной исламистско...\n",
       "10017    [исламистской организации которого обнаружена ...\n",
       "10018    ['' четверг израильский военный суд, '' алам х...\n",
       "10019    [отказывалась это делать основании законодател...\n",
       "Name: to_compare, Length: 10020, dtype: object"
      ]
     },
     "execution_count": 18,
     "metadata": {},
     "output_type": "execute_result"
    }
   ],
   "source": [
    "df['to_compare'] = df['shingles'].apply(choose_shingles)\n",
    "df['to_compare']"
   ]
  },
  {
   "cell_type": "code",
   "execution_count": null,
   "id": "4f2d74a5",
   "metadata": {
    "collapsed": false,
    "jupyter": {
     "outputs_hidden": false
    },
    "pycharm": {
     "name": "#%%\n"
    }
   },
   "outputs": [],
   "source": []
  },
  {
   "cell_type": "code",
   "execution_count": null,
   "id": "0ec999cd",
   "metadata": {
    "collapsed": false,
    "jupyter": {
     "outputs_hidden": false
    },
    "pycharm": {
     "name": "#%%\n"
    }
   },
   "outputs": [
    {
     "name": "stdout",
     "output_type": "stream",
     "text": [
      "778 888\n",
      "974 975\n"
     ]
    }
   ],
   "source": [
    "clusters = []\n",
    "duplicates_count = 0\n",
    "duplicates = set()\n",
    "for i in range(1000):\n",
    "    for j in range(i + 1, 1001):\n",
    "        a = df['text'][i]\n",
    "        b = df['text'][j]\n",
    "        are_equal = equals(a, b)\n",
    "\n",
    "        if are_equal:\n",
    "            duplicates.add(j)\n",
    "\n",
    "            cluster_found = False\n",
    "            for cluster in clusters:\n",
    "                if i in cluster or j in cluster:\n",
    "                    cluster.add(i)\n",
    "                    cluster.add(j)\n",
    "                    cluster_found = True\n",
    "            if not cluster_found:\n",
    "                print(i, j)\n",
    "                clusters.append({i, j})\n"
   ]
  },
  {
   "cell_type": "code",
   "execution_count": null,
   "id": "7d1e47d6",
   "metadata": {
    "collapsed": false,
    "jupyter": {
     "outputs_hidden": false
    },
    "pycharm": {
     "name": "#%%\n"
    }
   },
   "outputs": [
    {
     "data": {
      "text/plain": [
       "{888, 975}"
      ]
     },
     "execution_count": 10,
     "metadata": {},
     "output_type": "execute_result"
    }
   ],
   "source": [
    "duplicates"
   ]
  },
  {
   "cell_type": "code",
   "execution_count": null,
   "id": "0e918a77",
   "metadata": {
    "collapsed": false,
    "jupyter": {
     "outputs_hidden": false
    },
    "pycharm": {
     "name": "#%%\n"
    }
   },
   "outputs": [
    {
     "data": {
      "text/plain": [
       "[{778, 888}, {974, 975}]"
      ]
     },
     "execution_count": 11,
     "metadata": {},
     "output_type": "execute_result"
    }
   ],
   "source": [
    "clusters"
   ]
  },
  {
   "cell_type": "code",
   "execution_count": null,
   "id": "c9acd580",
   "metadata": {
    "collapsed": false,
    "jupyter": {
     "outputs_hidden": false
    },
    "pycharm": {
     "name": "#%%\n"
    }
   },
   "outputs": [
    {
     "data": {
      "text/html": [
       "<div>\n",
       "<style scoped>\n",
       "    .dataframe tbody tr th:only-of-type {\n",
       "        vertical-align: middle;\n",
       "    }\n",
       "\n",
       "    .dataframe tbody tr th {\n",
       "        vertical-align: top;\n",
       "    }\n",
       "\n",
       "    .dataframe thead th {\n",
       "        text-align: right;\n",
       "    }\n",
       "</style>\n",
       "<table border=\"1\" class=\"dataframe\">\n",
       "  <thead>\n",
       "    <tr style=\"text-align: right;\">\n",
       "      <th></th>\n",
       "      <th>docID</th>\n",
       "      <th>docURL</th>\n",
       "      <th>subject</th>\n",
       "      <th>agency</th>\n",
       "      <th>timestamp</th>\n",
       "      <th>content</th>\n",
       "      <th>text</th>\n",
       "      <th>shingles</th>\n",
       "      <th>shingles_len</th>\n",
       "      <th>to_compare</th>\n",
       "    </tr>\n",
       "  </thead>\n",
       "  <tbody>\n",
       "  </tbody>\n",
       "</table>\n",
       "</div>"
      ],
      "text/plain": [
       "Empty DataFrame\n",
       "Columns: [docID, docURL, subject, agency, timestamp, content, text, shingles, shingles_len, to_compare]\n",
       "Index: []"
      ]
     },
     "execution_count": 12,
     "metadata": {},
     "output_type": "execute_result"
    }
   ],
   "source": [
    "df.query('\"\" in shingles')"
   ]
  },
  {
   "cell_type": "code",
   "execution_count": null,
   "id": "75226150",
   "metadata": {
    "collapsed": false,
    "jupyter": {
     "outputs_hidden": false
    },
    "pycharm": {
     "name": "#%%\n"
    }
   },
   "outputs": [
    {
     "data": {
      "text/plain": [
       "False"
      ]
     },
     "execution_count": 15,
     "metadata": {},
     "output_type": "execute_result"
    }
   ],
   "source": [
    "clusters[0].issuperset(clusters[1])\n"
   ]
  },
  {
   "cell_type": "code",
   "execution_count": null,
   "id": "a70cc115-73dc-43c1-bdcf-bd3c7bd5f62a",
   "metadata": {},
   "outputs": [
    {
     "data": {
      "text/plain": [
       "\"екатеринбург апреля водитель направил микроавтобус дерево результате пострадали человека сообщили апи пресс-службе отдела гибдд увд екатеринбурга среду минут первого ночи улице бардина дома №33 водитель микроавтобуса `` тойота '' справился управлением наехал дерево обочине.-летний водитель получил черепно-мозговую травму его-летний пассажир получил перелом голени пострадавшие госпитализированы бригадой `` скорой помощи '' оба находились нетрезвом состоянии\""
      ]
     },
     "execution_count": 18,
     "metadata": {},
     "output_type": "execute_result"
    }
   ],
   "source": [
    "df['text'][778]"
   ]
  },
  {
   "cell_type": "code",
   "execution_count": null,
   "id": "33ddb0fa-a315-4c39-b49a-025c0451cdbc",
   "metadata": {},
   "outputs": [
    {
     "data": {
      "text/plain": [
       "\"екатеринбург апреля результате наезда автомобиля столб екатеринбурге пострадали человека сообщили апи пресс-службе городского отдела гибдд минувшей ночью часа улице марта дома №163-летний водитель автомобиля ваз справился управлением из-за автомобиль врезался столб водитель пассажир машины госпитализированы места дтп бригадой `` скорой помощи '' городскую клиническую больницу №24 закрытыми черепно-мозговыми травмами\""
      ]
     },
     "execution_count": 19,
     "metadata": {},
     "output_type": "execute_result"
    }
   ],
   "source": [
    "df['text'][888]"
   ]
  },
  {
   "cell_type": "code",
   "execution_count": null,
   "id": "e69917fe-b33c-4614-92af-c8a9016babfa",
   "metadata": {},
   "outputs": [
    {
     "data": {
      "text/plain": [
       "\"міжнародний ярмарок багдаді перенесено пізніший термін зв'язку з убивством чотирьох американських цивільних фалуджі ярмарок мав відкритися наступного понеділка понад компаній з країн світу мали б представити свої товари однак американські офіційні представники заявили що зможуть гарантувати безпеки учасникам ярмарку повідомляє ``\""
      ]
     },
     "execution_count": 20,
     "metadata": {},
     "output_type": "execute_result"
    }
   ],
   "source": [
    "df['text'][974]"
   ]
  },
  {
   "cell_type": "code",
   "execution_count": null,
   "id": "d317cf7c-b903-40cc-91f6-f055a5cd34e7",
   "metadata": {},
   "outputs": [
    {
     "data": {
      "text/plain": [
       "'международная ярмарка багдаде перенесена поздний срок связи убийством четырех американских гражданских фалудже ярмарка должна открыться следующий понедельник компаний стран мира должны представить свои товары однако официальные американские представители заявили смогут гарантировать безопасности участникам ярмарки сообщает ``'"
      ]
     },
     "execution_count": 21,
     "metadata": {},
     "output_type": "execute_result"
    }
   ],
   "source": [
    "df['text'][975]"
   ]
  },
  {
   "cell_type": "code",
   "execution_count": null,
   "id": "c111c57d-5cdd-40aa-af5e-405cb83db593",
   "metadata": {},
   "outputs": [],
   "source": []
  }
 ],
 "metadata": {
  "kernelspec": {
   "display_name": "Python 3 (ipykernel)",
   "language": "python",
   "name": "python3"
  },
  "language_info": {
   "codemirror_mode": {
    "name": "ipython",
    "version": 3
   },
   "file_extension": ".py",
   "mimetype": "text/x-python",
   "name": "python",
   "nbconvert_exporter": "python",
   "pygments_lexer": "ipython3",
   "version": "3.12.3"
  }
 },
 "nbformat": 4,
 "nbformat_minor": 5
}
